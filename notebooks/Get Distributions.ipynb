{
 "cells": [
  {
   "cell_type": "code",
   "execution_count": 1,
   "metadata": {},
   "outputs": [],
   "source": [
    "import seaborn as sns\n",
    "import metapack as mp\n",
    "import pandas as pd\n",
    "import numpy as np\n",
    "import matplotlib.pyplot as plt\n",
    "from IPython.display import display \n",
    "\n",
    "%matplotlib inline\n",
    "sns.set_context('notebook')\n",
    "mp.jupyter.init()\n"
   ]
  },
  {
   "cell_type": "code",
   "execution_count": 12,
   "metadata": {},
   "outputs": [
    {
     "name": "stdout",
     "output_type": "stream",
     "text": [
      "http://library.metatab.org/cde.ca.gov-reimbursements-1/data/cacfpreimburse.csv\n",
      "http://library.metatab.org/cde.ca.gov-reimbursements-1/data/nslpreimburse.csv\n",
      "http://library.metatab.org/cde.ca.gov-reimbursements-1/data/sbpreimburse.csv\n",
      "http://library.metatab.org/cde.ca.gov-reimbursements-1/data/snackreimburse.csv\n",
      "http://library.metatab.org/cde.ca.gov-reimbursements-1/data/summerreimburse.csv\n",
      "http://library.metatab.org/cde.ca.gov-caaspp-2015e-1/data/subgroup_ids.csv\n",
      "http://library.metatab.org/cde.ca.gov-caaspp-2015e-1/data/test_ids.csv\n",
      "http://library.metatab.org/cde.ca.gov-caaspp-2015e-1/data/subgroups.csv\n",
      "http://library.metatab.org/cde.ca.gov-caaspp-2015e-1/data/entities.csv\n",
      "http://library.metatab.org/cde.ca.gov-absenteeism-1/data/chab17.csv\n",
      "http://library.metatab.org/cde.ca.gov-absenteeism-1/data/chab16.csv\n",
      "http://library.metatab.org/cde.ca.gov-frpm-1/data/frpm04.csv\n",
      "http://library.metatab.org/cde.ca.gov-frpm-1/data/frpm05.csv\n",
      "http://library.metatab.org/cde.ca.gov-frpm-1/data/frpm06.csv\n",
      "http://library.metatab.org/cde.ca.gov-frpm-1/data/frpm07.csv\n",
      "http://library.metatab.org/cde.ca.gov-frpm-1/data/frpm08.csv\n",
      "http://library.metatab.org/cde.ca.gov-frpm-1/data/frpm09.csv\n",
      "http://library.metatab.org/cde.ca.gov-frpm-1/data/frpm10.csv\n",
      "http://library.metatab.org/cde.ca.gov-frpm-1/data/frpm11.csv\n",
      "http://library.metatab.org/cde.ca.gov-frpm-1/data/frpm12.csv\n",
      "http://library.metatab.org/cde.ca.gov-frpm-1/data/frpm13.csv\n",
      "http://library.metatab.org/cde.ca.gov-frpm-1/data/frpm14.csv\n",
      "http://library.metatab.org/cde.ca.gov-frpm-1/data/frpm15.csv\n",
      "http://library.metatab.org/cde.ca.gov-frpm-1/data/frpm16.csv\n",
      "http://library.metatab.org/cde.ca.gov-frpm-1/data/frpm17.csv\n",
      "http://library.metatab.org/cde.ca.gov-frpm-1/data/frpm18.csv\n",
      "http://library.metatab.org/cde.ca.gov-frpm-1/data/combined.csv\n",
      "http://library.metatab.org/cde.ca.gov-calpads_upc-1/data/upc_13_lea.csv\n",
      "http://library.metatab.org/cde.ca.gov-calpads_upc-1/data/upc_13_school.csv\n",
      "http://library.metatab.org/cde.ca.gov-calpads_upc-1/data/upc_14_lea.csv\n",
      "http://library.metatab.org/cde.ca.gov-calpads_upc-1/data/upc_14_school.csv\n",
      "http://library.metatab.org/cde.ca.gov-calpads_upc-1/data/upc_15_lea.csv\n",
      "http://library.metatab.org/cde.ca.gov-calpads_upc-1/data/upc_15_school.csv\n",
      "http://library.metatab.org/cde.ca.gov-calpads_upc-1/data/upc_16_lea.csv\n",
      "http://library.metatab.org/cde.ca.gov-calpads_upc-1/data/upc_16_school.csv\n",
      "http://library.metatab.org/cde.ca.gov-calpads_upc-1/data/upc_17_lea.csv\n",
      "http://library.metatab.org/cde.ca.gov-calpads_upc-1/data/upc_17_school.csv\n",
      "http://library.metatab.org/cde.ca.gov-calpads_upc-1/data/upc_combined_lea.csv\n",
      "http://library.metatab.org/cde.ca.gov-calpads_upc-1/data/upc_combined_school.csv\n",
      "http://library.metatab.org/cde.ca.gov-current_expense-1/data/current_expense_98.csv\n",
      "http://library.metatab.org/cde.ca.gov-current_expense-1/data/current_expense_99.csv\n",
      "http://library.metatab.org/cde.ca.gov-current_expense-1/data/current_expense_00.csv\n",
      "http://library.metatab.org/cde.ca.gov-current_expense-1/data/current_expense_01.csv\n",
      "http://library.metatab.org/cde.ca.gov-current_expense-1/data/current_expense_02.csv\n",
      "http://library.metatab.org/cde.ca.gov-current_expense-1/data/current_expense_03.csv\n",
      "http://library.metatab.org/cde.ca.gov-current_expense-1/data/current_expense_04.csv\n",
      "http://library.metatab.org/cde.ca.gov-current_expense-1/data/current_expense_05.csv\n",
      "http://library.metatab.org/cde.ca.gov-current_expense-1/data/current_expense_06.csv\n",
      "http://library.metatab.org/cde.ca.gov-current_expense-1/data/current_expense_07.csv\n",
      "http://library.metatab.org/cde.ca.gov-current_expense-1/data/current_expense_08.csv\n",
      "http://library.metatab.org/cde.ca.gov-current_expense-1/data/current_expense_09.csv\n",
      "http://library.metatab.org/cde.ca.gov-current_expense-1/data/current_expense_10.csv\n",
      "http://library.metatab.org/cde.ca.gov-current_expense-1/data/current_expense_11.csv\n",
      "http://library.metatab.org/cde.ca.gov-current_expense-1/data/current_expense_12.csv\n",
      "http://library.metatab.org/cde.ca.gov-current_expense-1/data/current_expense_13.csv\n",
      "http://library.metatab.org/cde.ca.gov-current_expense-1/data/current_expense_14.csv\n",
      "http://library.metatab.org/cde.ca.gov-current_expense-1/data/current_expense_15.csv\n",
      "http://library.metatab.org/cde.ca.gov-current_expense-1/data/current_expense_16.csv\n",
      "http://library.metatab.org/cde.ca.gov-current_expense-1/data/current_expense_17.csv\n",
      "http://library.metatab.org/cde.ca.gov-current_expense-1/data/combined_current_expense.csv\n"
     ]
    }
   ],
   "source": [
    "from pathlib import Path\n",
    "for pkg_url in Path('../datasets.txt').read_text().splitlines():\n",
    "    pkg = mp.open_package(pkg_url)\n",
    "    for r in pkg.resources():\n",
    "        print(r.url)"
   ]
  },
  {
   "cell_type": "code",
   "execution_count": null,
   "metadata": {},
   "outputs": [],
   "source": [
    "pkg = mp.jupyter.open_package()\n",
    "#pkg = mp.jupyter.open_source_package()\n",
    "pkg"
   ]
  }
 ],
 "metadata": {
  "kernelspec": {
   "display_name": "Python 3",
   "language": "python",
   "name": "python3"
  },
  "language_info": {
   "codemirror_mode": {
    "name": "ipython",
    "version": 3
   },
   "file_extension": ".py",
   "mimetype": "text/x-python",
   "name": "python",
   "nbconvert_exporter": "python",
   "pygments_lexer": "ipython3",
   "version": "3.6.0"
  }
 },
 "nbformat": 4,
 "nbformat_minor": 2
}
