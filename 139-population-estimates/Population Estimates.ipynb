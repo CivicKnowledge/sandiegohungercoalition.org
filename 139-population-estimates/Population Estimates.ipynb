{
 "metadata": {
  "name": "",
  "signature": "sha256:ec8d316af5b4d1de300e5e8a814efe49556f423bad7e0db9d51d5edebde8f26f"
 },
 "nbformat": 3,
 "nbformat_minor": 0,
 "worksheets": [
  {
   "cells": [
    {
     "cell_type": "heading",
     "level": 1,
     "metadata": {},
     "source": [
      "San Diego Population Estimates, 2012 to 2035"
     ]
    },
    {
     "cell_type": "markdown",
     "metadata": {},
     "source": [
      "Extrapolations of the 2012 SANDAG population estimates to consecutive years. \n",
      "\n",
      "[Issue Ticket 139](http://redmine.civicknowledge.com/issues/139)\n"
     ]
    },
    {
     "cell_type": "code",
     "collapsed": false,
     "input": [
      "import pandas as pd\n",
      "import sqlite3\n",
      "import matplotlib.pylab as plt\n",
      "%matplotlib inline\n",
      "\n",
      "con = sqlite3.connect(\"/Volumes/Storage/AmbryWarehouse/popest/popest1525.db\")\n",
      "df = pd.read_sql(\"SELECT * FROM t03d01001\", con)"
     ],
     "language": "python",
     "metadata": {},
     "outputs": [],
     "prompt_number": 340
    },
    {
     "cell_type": "code",
     "collapsed": false,
     "input": [
      "\n",
      "def calc_rates(s):\n",
      "    \"\"\"Return a series of extrapolations, from the three years 2012, 2020 and 2035\"\"\"\n",
      "    return pd.Series(np.append(np.linspace(s[2012], s[2020],9), \n",
      "                               np.linspace(s[2020], s[2035],16)[1:]), index=range(2012,2036)).astype(int)\n",
      "\n",
      "def extrapolate_col(df, col_name):\n",
      "    \"\"\"Create a new DataFrame with the extrapolations of a named column. The values are stacked, so\n",
      "    multiple extrapolations can be joined. \"\"\"\n",
      "    dfp = df.pivot(index='censustract2010', columns='year', values=col_name)\n",
      "    \n",
      "    r =  dfp.apply( calc_rates, axis=1)\n",
      "   \n",
      "    r = r.stack()\n",
      "    \n",
      "    x =  pd.DataFrame(r)\n",
      "    x.index.names = ['tract','year' ]\n",
      "    x.columns =  [col_name]\n",
      "\n",
      "    return x\n",
      " \n",
      "r = extrapolate_col(df, 'pop' )\n",
      "\n",
      "for col_name in df.columns[4:]:\n",
      "    r = r.join(extrapolate_col(df, col_name ))\n",
      "\n",
      "r.to_csv('popest_single_years.csv')\n",
      "r.head()"
     ],
     "language": "python",
     "metadata": {},
     "outputs": []
    },
    {
     "cell_type": "code",
     "collapsed": false,
     "input": [],
     "language": "python",
     "metadata": {},
     "outputs": [],
     "prompt_number": 433
    }
   ],
   "metadata": {}
  }
 ]
}